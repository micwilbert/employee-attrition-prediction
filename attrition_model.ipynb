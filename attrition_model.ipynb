{
 "cells": [
  {
   "cell_type": "markdown",
   "metadata": {},
   "source": [
    "# i. Perkenalan"
   ]
  },
  {
   "cell_type": "markdown",
   "metadata": {},
   "source": [
    "----------------------------------------------\n",
    "\n",
    "NAMA        : MICHAEL WILBERT PURADISASTRA\n",
    "\n",
    "DATASET     : https://www.kaggle.com/datasets/stealthtechnologies/employee-attrition-dataset\n",
    "\n",
    "Program ini dirancang untuk menerapkan teknik machine learning dalam mengklasifikasikan potensi seorang karyawan untuk berhenti bekerja atau tetap bertahan di perusahaan berdasarkan berbagai faktor yang relevan. Analisis ini bertujuan membantu perusahaan mengidentifikasi pola dan mengambil langkah strategis untuk mengurangi risiko attrition.\n",
    "\n",
    "Dataset yang digunakan mencakup informasi seperti ID unik karyawan, usia, lama bekerja di perusahaan, serta faktor-faktor lain yang memengaruhi keputusan mereka untuk bertahan atau meninggalkan perusahaan. Project ini merupakan bagian dari Milestone 2, yang berfokus pada implementasi algoritma supervised learning untuk memprediksi hasil klasifikasi dengan akurasi dan interpretasi yang optimal.\n",
    "\n",
    "----------------------------------------------"
   ]
  },
  {
   "cell_type": "markdown",
   "metadata": {},
   "source": [
    "## ***Problem Statement***"
   ]
  },
  {
   "cell_type": "markdown",
   "metadata": {},
   "source": [
    "Tingkat pergantian karyawan atau *attrition* adalah tantangan yang sering dihadapi banyak perusahaan. Ketika karyawan memutuskan untuk berhenti, hal ini dapat memicu biaya tambahan untuk rekrutmen, pelatihan, dan menurunkan produktivitas. Dengan membangun model prediksi ini, perusahaan diharapkan dapat lebih siap mengambil langkah pencegahan untuk mengurangi risiko *attrition*. \n",
    "\n",
    "Metode evaluasi yang akan digunakan meliputi:  \n",
    "- **Accuracy**: Mengukur persentase prediksi yang benar dari keseluruhan data.  \n",
    "- **Precision**: Mengevaluasi sejauh mana model akurat dalam memprediksi karyawan yang akan berhenti dibandingkan prediksi yang sebenarnya.  \n",
    "- **Recall**: Menilai kemampuan model dalam mendeteksi karyawan yang benar-benar akan berhenti.  \n",
    "- **F1-Score**: Kombinasi Precision dan Recall untuk memberikan gambaran kinerja yang lebih seimbang.  \n",
    "- **ROC-AUC**: Mengukur kemampuan model membedakan antara kelas *attrition* dan non-*attrition*.  \n",
    "\n",
    "Model yang akan diuji mencakup **KNN**, **Decision Tree**, **Random Forest**, dan **Boosting Models**. Semua model ini akan diuji untuk menemukan performa terbaik sebelum dipilih sebagai solusi utama."
   ]
  },
  {
   "cell_type": "markdown",
   "metadata": {},
   "source": [
    "## ***Objective***"
   ]
  },
  {
   "cell_type": "markdown",
   "metadata": {},
   "source": [
    "Mengembangkan model klasifikasi untuk tim HR agar mereka dapat merancang strategi yang lebih efektif dengan memperkirakan potensi seorang karyawan untuk berhenti bekerja atau tetap bertahan dalam perusahaan."
   ]
  },
  {
   "cell_type": "markdown",
   "metadata": {},
   "source": [
    "# ii. Import Libraries"
   ]
  },
  {
   "cell_type": "code",
   "execution_count": null,
   "metadata": {},
   "outputs": [],
   "source": [
    "# Importing necessary libraries\n",
    "import pandas as pd\n",
    "import numpy as np\n",
    "import matplotlib.pyplot as plt\n",
    "import seaborn as sns\n",
    "import joblib\n",
    "\n",
    "# Preprocessing\n",
    "from sklearn.preprocessing import LabelEncoder, StandardScaler, OneHotEncoder\n",
    "from sklearn.impute import SimpleImputer\n",
    "from sklearn.pipeline import Pipeline\n",
    "from sklearn.compose import ColumnTransformer\n",
    "from sklearn.base import BaseEstimator, TransformerMixin\n",
    "\n",
    "# Model evaluation and selection\n",
    "from sklearn.model_selection import train_test_split, cross_val_score, GridSearchCV\n",
    "\n",
    "# Machine Learning Models\n",
    "from sklearn.neighbors import KNeighborsClassifier\n",
    "from sklearn.svm import SVC\n",
    "from sklearn.tree import DecisionTreeClassifier\n",
    "from sklearn.ensemble import (\n",
    "    RandomForestClassifier,\n",
    "    GradientBoostingClassifier,\n",
    "    BaggingClassifier\n",
    ")\n",
    "\n",
    "# Metrics\n",
    "from sklearn.metrics import (\n",
    "    classification_report,\n",
    "    confusion_matrix,\n",
    "    accuracy_score,\n",
    "    roc_auc_score,\n",
    "    roc_curve,\n",
    "    precision_score,\n",
    "    recall_score, f1_score\n",
    ")\n"
   ]
  },
  {
   "cell_type": "markdown",
   "metadata": {},
   "source": [
    "# iii. Data Loading"
   ]
  },
  {
   "cell_type": "code",
   "execution_count": 46,
   "metadata": {},
   "outputs": [
    {
     "data": {
      "text/html": [
       "<div>\n",
       "<style scoped>\n",
       "    .dataframe tbody tr th:only-of-type {\n",
       "        vertical-align: middle;\n",
       "    }\n",
       "\n",
       "    .dataframe tbody tr th {\n",
       "        vertical-align: top;\n",
       "    }\n",
       "\n",
       "    .dataframe thead th {\n",
       "        text-align: right;\n",
       "    }\n",
       "</style>\n",
       "<table border=\"1\" class=\"dataframe\">\n",
       "  <thead>\n",
       "    <tr style=\"text-align: right;\">\n",
       "      <th></th>\n",
       "      <th>Employee ID</th>\n",
       "      <th>Age</th>\n",
       "      <th>Gender</th>\n",
       "      <th>Years at Company</th>\n",
       "      <th>Job Role</th>\n",
       "      <th>Monthly Income</th>\n",
       "      <th>Work-Life Balance</th>\n",
       "      <th>Job Satisfaction</th>\n",
       "      <th>Performance Rating</th>\n",
       "      <th>Number of Promotions</th>\n",
       "      <th>...</th>\n",
       "      <th>Number of Dependents</th>\n",
       "      <th>Job Level</th>\n",
       "      <th>Company Size</th>\n",
       "      <th>Company Tenure</th>\n",
       "      <th>Remote Work</th>\n",
       "      <th>Leadership Opportunities</th>\n",
       "      <th>Innovation Opportunities</th>\n",
       "      <th>Company Reputation</th>\n",
       "      <th>Employee Recognition</th>\n",
       "      <th>Attrition</th>\n",
       "    </tr>\n",
       "  </thead>\n",
       "  <tbody>\n",
       "    <tr>\n",
       "      <th>0</th>\n",
       "      <td>8410</td>\n",
       "      <td>31</td>\n",
       "      <td>Male</td>\n",
       "      <td>19</td>\n",
       "      <td>Education</td>\n",
       "      <td>5390</td>\n",
       "      <td>Excellent</td>\n",
       "      <td>Medium</td>\n",
       "      <td>Average</td>\n",
       "      <td>2</td>\n",
       "      <td>...</td>\n",
       "      <td>0</td>\n",
       "      <td>Mid</td>\n",
       "      <td>Medium</td>\n",
       "      <td>89</td>\n",
       "      <td>No</td>\n",
       "      <td>No</td>\n",
       "      <td>No</td>\n",
       "      <td>Excellent</td>\n",
       "      <td>Medium</td>\n",
       "      <td>Stayed</td>\n",
       "    </tr>\n",
       "    <tr>\n",
       "      <th>1</th>\n",
       "      <td>64756</td>\n",
       "      <td>59</td>\n",
       "      <td>Female</td>\n",
       "      <td>4</td>\n",
       "      <td>Media</td>\n",
       "      <td>5534</td>\n",
       "      <td>Poor</td>\n",
       "      <td>High</td>\n",
       "      <td>Low</td>\n",
       "      <td>3</td>\n",
       "      <td>...</td>\n",
       "      <td>3</td>\n",
       "      <td>Mid</td>\n",
       "      <td>Medium</td>\n",
       "      <td>21</td>\n",
       "      <td>No</td>\n",
       "      <td>No</td>\n",
       "      <td>No</td>\n",
       "      <td>Fair</td>\n",
       "      <td>Low</td>\n",
       "      <td>Stayed</td>\n",
       "    </tr>\n",
       "    <tr>\n",
       "      <th>2</th>\n",
       "      <td>30257</td>\n",
       "      <td>24</td>\n",
       "      <td>Female</td>\n",
       "      <td>10</td>\n",
       "      <td>Healthcare</td>\n",
       "      <td>8159</td>\n",
       "      <td>Good</td>\n",
       "      <td>High</td>\n",
       "      <td>Low</td>\n",
       "      <td>0</td>\n",
       "      <td>...</td>\n",
       "      <td>3</td>\n",
       "      <td>Mid</td>\n",
       "      <td>Medium</td>\n",
       "      <td>74</td>\n",
       "      <td>No</td>\n",
       "      <td>No</td>\n",
       "      <td>No</td>\n",
       "      <td>Poor</td>\n",
       "      <td>Low</td>\n",
       "      <td>Stayed</td>\n",
       "    </tr>\n",
       "    <tr>\n",
       "      <th>3</th>\n",
       "      <td>65791</td>\n",
       "      <td>36</td>\n",
       "      <td>Female</td>\n",
       "      <td>7</td>\n",
       "      <td>Education</td>\n",
       "      <td>3989</td>\n",
       "      <td>Good</td>\n",
       "      <td>High</td>\n",
       "      <td>High</td>\n",
       "      <td>1</td>\n",
       "      <td>...</td>\n",
       "      <td>2</td>\n",
       "      <td>Mid</td>\n",
       "      <td>Small</td>\n",
       "      <td>50</td>\n",
       "      <td>Yes</td>\n",
       "      <td>No</td>\n",
       "      <td>No</td>\n",
       "      <td>Good</td>\n",
       "      <td>Medium</td>\n",
       "      <td>Stayed</td>\n",
       "    </tr>\n",
       "    <tr>\n",
       "      <th>4</th>\n",
       "      <td>65026</td>\n",
       "      <td>56</td>\n",
       "      <td>Male</td>\n",
       "      <td>41</td>\n",
       "      <td>Education</td>\n",
       "      <td>4821</td>\n",
       "      <td>Fair</td>\n",
       "      <td>Very High</td>\n",
       "      <td>Average</td>\n",
       "      <td>0</td>\n",
       "      <td>...</td>\n",
       "      <td>0</td>\n",
       "      <td>Senior</td>\n",
       "      <td>Medium</td>\n",
       "      <td>68</td>\n",
       "      <td>No</td>\n",
       "      <td>No</td>\n",
       "      <td>No</td>\n",
       "      <td>Fair</td>\n",
       "      <td>Medium</td>\n",
       "      <td>Stayed</td>\n",
       "    </tr>\n",
       "    <tr>\n",
       "      <th>...</th>\n",
       "      <td>...</td>\n",
       "      <td>...</td>\n",
       "      <td>...</td>\n",
       "      <td>...</td>\n",
       "      <td>...</td>\n",
       "      <td>...</td>\n",
       "      <td>...</td>\n",
       "      <td>...</td>\n",
       "      <td>...</td>\n",
       "      <td>...</td>\n",
       "      <td>...</td>\n",
       "      <td>...</td>\n",
       "      <td>...</td>\n",
       "      <td>...</td>\n",
       "      <td>...</td>\n",
       "      <td>...</td>\n",
       "      <td>...</td>\n",
       "      <td>...</td>\n",
       "      <td>...</td>\n",
       "      <td>...</td>\n",
       "      <td>...</td>\n",
       "    </tr>\n",
       "    <tr>\n",
       "      <th>59593</th>\n",
       "      <td>37195</td>\n",
       "      <td>50</td>\n",
       "      <td>Female</td>\n",
       "      <td>12</td>\n",
       "      <td>Education</td>\n",
       "      <td>4414</td>\n",
       "      <td>Fair</td>\n",
       "      <td>High</td>\n",
       "      <td>Average</td>\n",
       "      <td>1</td>\n",
       "      <td>...</td>\n",
       "      <td>2</td>\n",
       "      <td>Senior</td>\n",
       "      <td>Small</td>\n",
       "      <td>35</td>\n",
       "      <td>No</td>\n",
       "      <td>No</td>\n",
       "      <td>Yes</td>\n",
       "      <td>Poor</td>\n",
       "      <td>Very High</td>\n",
       "      <td>Left</td>\n",
       "    </tr>\n",
       "    <tr>\n",
       "      <th>59594</th>\n",
       "      <td>6266</td>\n",
       "      <td>18</td>\n",
       "      <td>Male</td>\n",
       "      <td>4</td>\n",
       "      <td>Healthcare</td>\n",
       "      <td>8040</td>\n",
       "      <td>Fair</td>\n",
       "      <td>High</td>\n",
       "      <td>High</td>\n",
       "      <td>3</td>\n",
       "      <td>...</td>\n",
       "      <td>0</td>\n",
       "      <td>Senior</td>\n",
       "      <td>Medium</td>\n",
       "      <td>73</td>\n",
       "      <td>No</td>\n",
       "      <td>No</td>\n",
       "      <td>No</td>\n",
       "      <td>Fair</td>\n",
       "      <td>Medium</td>\n",
       "      <td>Left</td>\n",
       "    </tr>\n",
       "    <tr>\n",
       "      <th>59595</th>\n",
       "      <td>54887</td>\n",
       "      <td>22</td>\n",
       "      <td>Female</td>\n",
       "      <td>14</td>\n",
       "      <td>Technology</td>\n",
       "      <td>7944</td>\n",
       "      <td>Fair</td>\n",
       "      <td>High</td>\n",
       "      <td>High</td>\n",
       "      <td>0</td>\n",
       "      <td>...</td>\n",
       "      <td>2</td>\n",
       "      <td>Entry</td>\n",
       "      <td>Small</td>\n",
       "      <td>29</td>\n",
       "      <td>No</td>\n",
       "      <td>Yes</td>\n",
       "      <td>No</td>\n",
       "      <td>Good</td>\n",
       "      <td>Medium</td>\n",
       "      <td>Stayed</td>\n",
       "    </tr>\n",
       "    <tr>\n",
       "      <th>59596</th>\n",
       "      <td>861</td>\n",
       "      <td>23</td>\n",
       "      <td>Male</td>\n",
       "      <td>8</td>\n",
       "      <td>Education</td>\n",
       "      <td>2931</td>\n",
       "      <td>Fair</td>\n",
       "      <td>Very High</td>\n",
       "      <td>Average</td>\n",
       "      <td>0</td>\n",
       "      <td>...</td>\n",
       "      <td>0</td>\n",
       "      <td>Entry</td>\n",
       "      <td>Large</td>\n",
       "      <td>9</td>\n",
       "      <td>No</td>\n",
       "      <td>No</td>\n",
       "      <td>No</td>\n",
       "      <td>Good</td>\n",
       "      <td>Low</td>\n",
       "      <td>Left</td>\n",
       "    </tr>\n",
       "    <tr>\n",
       "      <th>59597</th>\n",
       "      <td>15796</td>\n",
       "      <td>56</td>\n",
       "      <td>Male</td>\n",
       "      <td>19</td>\n",
       "      <td>Technology</td>\n",
       "      <td>6660</td>\n",
       "      <td>Good</td>\n",
       "      <td>High</td>\n",
       "      <td>Average</td>\n",
       "      <td>0</td>\n",
       "      <td>...</td>\n",
       "      <td>3</td>\n",
       "      <td>Mid</td>\n",
       "      <td>Medium</td>\n",
       "      <td>81</td>\n",
       "      <td>No</td>\n",
       "      <td>No</td>\n",
       "      <td>No</td>\n",
       "      <td>Good</td>\n",
       "      <td>Low</td>\n",
       "      <td>Stayed</td>\n",
       "    </tr>\n",
       "  </tbody>\n",
       "</table>\n",
       "<p>59598 rows × 24 columns</p>\n",
       "</div>"
      ],
      "text/plain": [
       "       Employee ID  Age  Gender  Years at Company    Job Role  Monthly Income  \\\n",
       "0             8410   31    Male                19   Education            5390   \n",
       "1            64756   59  Female                 4       Media            5534   \n",
       "2            30257   24  Female                10  Healthcare            8159   \n",
       "3            65791   36  Female                 7   Education            3989   \n",
       "4            65026   56    Male                41   Education            4821   \n",
       "...            ...  ...     ...               ...         ...             ...   \n",
       "59593        37195   50  Female                12   Education            4414   \n",
       "59594         6266   18    Male                 4  Healthcare            8040   \n",
       "59595        54887   22  Female                14  Technology            7944   \n",
       "59596          861   23    Male                 8   Education            2931   \n",
       "59597        15796   56    Male                19  Technology            6660   \n",
       "\n",
       "      Work-Life Balance Job Satisfaction Performance Rating  \\\n",
       "0             Excellent           Medium            Average   \n",
       "1                  Poor             High                Low   \n",
       "2                  Good             High                Low   \n",
       "3                  Good             High               High   \n",
       "4                  Fair        Very High            Average   \n",
       "...                 ...              ...                ...   \n",
       "59593              Fair             High            Average   \n",
       "59594              Fair             High               High   \n",
       "59595              Fair             High               High   \n",
       "59596              Fair        Very High            Average   \n",
       "59597              Good             High            Average   \n",
       "\n",
       "       Number of Promotions  ... Number of Dependents  Job Level Company Size  \\\n",
       "0                         2  ...                    0        Mid       Medium   \n",
       "1                         3  ...                    3        Mid       Medium   \n",
       "2                         0  ...                    3        Mid       Medium   \n",
       "3                         1  ...                    2        Mid        Small   \n",
       "4                         0  ...                    0     Senior       Medium   \n",
       "...                     ...  ...                  ...        ...          ...   \n",
       "59593                     1  ...                    2     Senior        Small   \n",
       "59594                     3  ...                    0     Senior       Medium   \n",
       "59595                     0  ...                    2      Entry        Small   \n",
       "59596                     0  ...                    0      Entry        Large   \n",
       "59597                     0  ...                    3        Mid       Medium   \n",
       "\n",
       "      Company Tenure  Remote Work Leadership Opportunities  \\\n",
       "0                 89           No                       No   \n",
       "1                 21           No                       No   \n",
       "2                 74           No                       No   \n",
       "3                 50          Yes                       No   \n",
       "4                 68           No                       No   \n",
       "...              ...          ...                      ...   \n",
       "59593             35           No                       No   \n",
       "59594             73           No                       No   \n",
       "59595             29           No                      Yes   \n",
       "59596              9           No                       No   \n",
       "59597             81           No                       No   \n",
       "\n",
       "      Innovation Opportunities  Company Reputation Employee Recognition  \\\n",
       "0                           No           Excellent               Medium   \n",
       "1                           No                Fair                  Low   \n",
       "2                           No                Poor                  Low   \n",
       "3                           No                Good               Medium   \n",
       "4                           No                Fair               Medium   \n",
       "...                        ...                 ...                  ...   \n",
       "59593                      Yes                Poor            Very High   \n",
       "59594                       No                Fair               Medium   \n",
       "59595                       No                Good               Medium   \n",
       "59596                       No                Good                  Low   \n",
       "59597                       No                Good                  Low   \n",
       "\n",
       "      Attrition  \n",
       "0        Stayed  \n",
       "1        Stayed  \n",
       "2        Stayed  \n",
       "3        Stayed  \n",
       "4        Stayed  \n",
       "...         ...  \n",
       "59593      Left  \n",
       "59594      Left  \n",
       "59595    Stayed  \n",
       "59596      Left  \n",
       "59597    Stayed  \n",
       "\n",
       "[59598 rows x 24 columns]"
      ]
     },
     "execution_count": 46,
     "metadata": {},
     "output_type": "execute_result"
    }
   ],
   "source": [
    "data = pd.read_csv(\"train.csv\")\n",
    "train_data = data.copy()\n",
    "train_data\n"
   ]
  },
  {
   "cell_type": "code",
   "execution_count": 47,
   "metadata": {},
   "outputs": [
    {
     "name": "stdout",
     "output_type": "stream",
     "text": [
      "<class 'pandas.core.frame.DataFrame'>\n",
      "RangeIndex: 59598 entries, 0 to 59597\n",
      "Data columns (total 24 columns):\n",
      " #   Column                    Non-Null Count  Dtype \n",
      "---  ------                    --------------  ----- \n",
      " 0   Employee ID               59598 non-null  int64 \n",
      " 1   Age                       59598 non-null  int64 \n",
      " 2   Gender                    59598 non-null  object\n",
      " 3   Years at Company          59598 non-null  int64 \n",
      " 4   Job Role                  59598 non-null  object\n",
      " 5   Monthly Income            59598 non-null  int64 \n",
      " 6   Work-Life Balance         59598 non-null  object\n",
      " 7   Job Satisfaction          59598 non-null  object\n",
      " 8   Performance Rating        59598 non-null  object\n",
      " 9   Number of Promotions      59598 non-null  int64 \n",
      " 10  Overtime                  59598 non-null  object\n",
      " 11  Distance from Home        59598 non-null  int64 \n",
      " 12  Education Level           59598 non-null  object\n",
      " 13  Marital Status            59598 non-null  object\n",
      " 14  Number of Dependents      59598 non-null  int64 \n",
      " 15  Job Level                 59598 non-null  object\n",
      " 16  Company Size              59598 non-null  object\n",
      " 17  Company Tenure            59598 non-null  int64 \n",
      " 18  Remote Work               59598 non-null  object\n",
      " 19  Leadership Opportunities  59598 non-null  object\n",
      " 20  Innovation Opportunities  59598 non-null  object\n",
      " 21  Company Reputation        59598 non-null  object\n",
      " 22  Employee Recognition      59598 non-null  object\n",
      " 23  Attrition                 59598 non-null  object\n",
      "dtypes: int64(8), object(16)\n",
      "memory usage: 10.9+ MB\n",
      "None\n",
      "        Employee ID           Age  Years at Company  Monthly Income  \\\n",
      "count  59598.000000  59598.000000      59598.000000    59598.000000   \n",
      "mean   37227.118729     38.565875         15.753901     7302.397983   \n",
      "std    21519.150028     12.079673         11.245981     2151.457423   \n",
      "min        1.000000     18.000000          1.000000     1316.000000   \n",
      "25%    18580.250000     28.000000          7.000000     5658.000000   \n",
      "50%    37209.500000     39.000000         13.000000     7354.000000   \n",
      "75%    55876.750000     49.000000         23.000000     8880.000000   \n",
      "max    74498.000000     59.000000         51.000000    16149.000000   \n",
      "\n",
      "       Number of Promotions  Distance from Home  Number of Dependents  \\\n",
      "count          59598.000000        59598.000000          59598.000000   \n",
      "mean               0.832578           50.007651              1.648075   \n",
      "std                0.994991           28.466459              1.555689   \n",
      "min                0.000000            1.000000              0.000000   \n",
      "25%                0.000000           25.000000              0.000000   \n",
      "50%                1.000000           50.000000              1.000000   \n",
      "75%                2.000000           75.000000              3.000000   \n",
      "max                4.000000           99.000000              6.000000   \n",
      "\n",
      "       Company Tenure  \n",
      "count    59598.000000  \n",
      "mean        55.758415  \n",
      "std         25.411090  \n",
      "min          2.000000  \n",
      "25%         36.000000  \n",
      "50%         56.000000  \n",
      "75%         76.000000  \n",
      "max        128.000000  \n",
      "   Employee ID  Age  Gender  Years at Company    Job Role  Monthly Income  \\\n",
      "0         8410   31    Male                19   Education            5390   \n",
      "1        64756   59  Female                 4       Media            5534   \n",
      "2        30257   24  Female                10  Healthcare            8159   \n",
      "3        65791   36  Female                 7   Education            3989   \n",
      "4        65026   56    Male                41   Education            4821   \n",
      "\n",
      "  Work-Life Balance Job Satisfaction Performance Rating  Number of Promotions  \\\n",
      "0         Excellent           Medium            Average                     2   \n",
      "1              Poor             High                Low                     3   \n",
      "2              Good             High                Low                     0   \n",
      "3              Good             High               High                     1   \n",
      "4              Fair        Very High            Average                     0   \n",
      "\n",
      "   ... Number of Dependents  Job Level Company Size Company Tenure  \\\n",
      "0  ...                    0        Mid       Medium             89   \n",
      "1  ...                    3        Mid       Medium             21   \n",
      "2  ...                    3        Mid       Medium             74   \n",
      "3  ...                    2        Mid        Small             50   \n",
      "4  ...                    0     Senior       Medium             68   \n",
      "\n",
      "   Remote Work Leadership Opportunities Innovation Opportunities  \\\n",
      "0           No                       No                       No   \n",
      "1           No                       No                       No   \n",
      "2           No                       No                       No   \n",
      "3          Yes                       No                       No   \n",
      "4           No                       No                       No   \n",
      "\n",
      "   Company Reputation Employee Recognition Attrition  \n",
      "0           Excellent               Medium    Stayed  \n",
      "1                Fair                  Low    Stayed  \n",
      "2                Poor                  Low    Stayed  \n",
      "3                Good               Medium    Stayed  \n",
      "4                Fair               Medium    Stayed  \n",
      "\n",
      "[5 rows x 24 columns]\n",
      "Employee ID                 0\n",
      "Age                         0\n",
      "Gender                      0\n",
      "Years at Company            0\n",
      "Job Role                    0\n",
      "Monthly Income              0\n",
      "Work-Life Balance           0\n",
      "Job Satisfaction            0\n",
      "Performance Rating          0\n",
      "Number of Promotions        0\n",
      "Overtime                    0\n",
      "Distance from Home          0\n",
      "Education Level             0\n",
      "Marital Status              0\n",
      "Number of Dependents        0\n",
      "Job Level                   0\n",
      "Company Size                0\n",
      "Company Tenure              0\n",
      "Remote Work                 0\n",
      "Leadership Opportunities    0\n",
      "Innovation Opportunities    0\n",
      "Company Reputation          0\n",
      "Employee Recognition        0\n",
      "Attrition                   0\n",
      "dtype: int64\n"
     ]
    }
   ],
   "source": [
    "print(train_data.info())\n",
    "print(train_data.describe())\n",
    "print(train_data.head())\n",
    "print(train_data.isnull().sum())"
   ]
  },
  {
   "cell_type": "markdown",
   "metadata": {},
   "source": [
    "Dataset memiliki 59,598 baris dan 24 kolom, yang cukup besar untuk proyek supervised learning. Kolom target Attrition terlihat memiliki data lengkap tanpa nilai null, yang merupakan poin positif. Semua kolom menunjukkan tidak ada nilai yang hilang. Sebagian besar kolom numerik memiliki tipe data yang sesuai (int64), tetapi beberapa kolom kategorikal (seperti Gender, Job Role, dll.) perlu diubah dahulu."
   ]
  },
  {
   "cell_type": "markdown",
   "metadata": {},
   "source": [
    "# iv. Exploratory Data Analysis (EDA)"
   ]
  },
  {
   "cell_type": "markdown",
   "metadata": {},
   "source": [
    "## A. Cek berapa banyak karyawan yang tinggal dan resign"
   ]
  },
  {
   "cell_type": "code",
   "execution_count": 48,
   "metadata": {},
   "outputs": [
    {
     "data": {
      "image/png": "[encoded data removed]",
      "text/plain": [
       "<Figure size 640x480 with 1 Axes>"
      ]
     },
     "metadata": {},
     "output_type": "display_data"
    }
   ],
   "source": [
    "sns.countplot(x='Attrition', data=train_data)\n",
    "plt.show()"
   ]
  },
  {
   "cell_type": "markdown",
   "metadata": {},
   "source": [
    "Dari grafik terlihat bahwa perusahaan memiliki sejumlah besar karyawan yang meninggalkan perusahaan (attrition), meskipun jumlahnya tidak terlalu jauh berbeda dengan karyawan yang tetap tinggal (stayed). Ini menunjukkan bahwa perusahaan menghadapi tantangan dalam mempertahankan karyawannya."
   ]
  },
  {
   "cell_type": "markdown",
   "metadata": {},
   "source": [
    "Menurut jurnal Society for Human Resource Management (SHRM), attrition lebih umum terjadi pada karyawan dengan masa kerja pendek (1-2 tahun) atau pada karyawan senior yang merasa stagnan dalam karier. Dari sini timbul pertanyaan, apakah karyawan yang meninggalkan perusahaan memiliki usia tertentu? Apakah ada hubungan dengan jumlah tahun bekerja di perusahaan?"
   ]
  },
  {
   "cell_type": "markdown",
   "metadata": {},
   "source": [
    "## B. Hubungan antara Attrition dan Masa Kerja"
   ]
  },
  {
   "cell_type": "code",
   "execution_count": 49,
   "metadata": {},
   "outputs": [
    {
     "data": {
      "image/png": "[encoded data removed]",
      "text/plain": [
       "<Figure size 640x480 with 1 Axes>"
      ]
     },
     "metadata": {},
     "output_type": "display_data"
    },
    {
     "data": {
      "image/png": "[encoded data removed]",
      "text/plain": [
       "<Figure size 600x600 with 1 Axes>"
      ]
     },
     "metadata": {},
     "output_type": "display_data"
    }
   ],
   "source": [
    "sns.boxplot(x='Attrition', y='Years at Company', data=train_data)\n",
    "plt.title(\"Hubungan antara Attrition dan Masa Kerja\")\n",
    "plt.show()\n",
    "\n",
    "attrition_counts = train_data[\"Attrition\"].value_counts()\n",
    "attrition_counts.plot(kind=\"pie\", autopct='%1.1f%%', figsize=(6, 6), startangle=90, labels=[\"Tidak\", \"Ya\"])\n",
    "plt.title(\"Komposisi Attrition\")\n",
    "plt.ylabel(\"\")\n",
    "plt.show()\n"
   ]
  },
  {
   "cell_type": "markdown",
   "metadata": {},
   "source": [
    "Karyawan yang \"Stayed\" cenderung memiliki masa kerja sedikit lebih panjang dibandingkan dengan yang \"Left\". Outlier untuk masa kerja lebih banyak pada karyawan yang \"Left\", menunjukkan adanya kasus unik di mana beberapa karyawan meninggalkan perusahaan meskipun telah bekerja cukup lama."
   ]
  },
  {
   "cell_type": "markdown",
   "metadata": {},
   "source": [
    "## C. Hubungan antara Attrition dan Umur"
   ]
  },
  {
   "cell_type": "code",
   "execution_count": 50,
   "metadata": {},
   "outputs": [
    {
     "data": {
      "image/png": "[encoded data removed]",
      "text/plain": [
       "<Figure size 640x480 with 1 Axes>"
      ]
     },
     "metadata": {},
     "output_type": "display_data"
    }
   ],
   "source": [
    "sns.boxplot(x='Attrition', y='Age', data=train_data)\n",
    "plt.title(\"Hubungan antara Attrition dan Umur\")\n",
    "plt.show()"
   ]
  },
  {
   "cell_type": "markdown",
   "metadata": {},
   "source": [
    "Hasil usia tidak menunjukkan perbedaan signifikan sehingga seharusnya faktor usia bukan menjadi penentu untuk orang tetap bekerja atau tidak."
   ]
  },
  {
   "cell_type": "markdown",
   "metadata": {},
   "source": [
    "## D. Work-Life Balance dan Job Satisfaction"
   ]
  },
  {
   "cell_type": "code",
   "execution_count": 51,
   "metadata": {},
   "outputs": [
    {
     "data": {
      "image/png": "[encoded data removed]",
      "text/plain": [
       "<Figure size 640x480 with 1 Axes>"
      ]
     },
     "metadata": {},
     "output_type": "display_data"
    }
   ],
   "source": [
    "sns.countplot(x='Work-Life Balance', hue='Attrition', data=train_data)\n",
    "plt.title(\"Work-Life Balance dan Attrition\")\n",
    "plt.show()"
   ]
  },
  {
   "cell_type": "markdown",
   "metadata": {},
   "source": [
    "Work-Life Balance adalah faktor kunci dimana karyawan dengan work-life balance yang Excellent cenderung bertahan lebih lama. Sementara itu, karyawan dengan work-life balance Poor lebih rentan untuk meninggalkan perusahaan."
   ]
  },
  {
   "cell_type": "code",
   "execution_count": 52,
   "metadata": {},
   "outputs": [
    {
     "data": {
      "image/png": "[encoded data removed]",
      "text/plain": [
       "<Figure size 640x480 with 1 Axes>"
      ]
     },
     "metadata": {},
     "output_type": "display_data"
    }
   ],
   "source": [
    "sns.countplot(x='Job Satisfaction', hue='Attrition', data=train_data)\n",
    "plt.title(\"Job Satisfaction dan Attrition\")\n",
    "plt.show()"
   ]
  },
  {
   "cell_type": "markdown",
   "metadata": {},
   "source": [
    "Kepuasan kerja rendah berkorelasi dengan tingginya tingkat attrition. Namun, kepuasan kerja tinggi tidak sepenuhnya memastikan karyawan tetap tinggal. Ada faktor-faktor lain yang mungkin memengaruhi keputusan mereka."
   ]
  },
  {
   "cell_type": "markdown",
   "metadata": {},
   "source": [
    "## E. Faktor Gaji dan Promosi"
   ]
  },
  {
   "cell_type": "code",
   "execution_count": 53,
   "metadata": {},
   "outputs": [
    {
     "data": {
      "image/png": "[encoded data removed]",
      "text/plain": [
       "<Figure size 640x480 with 1 Axes>"
      ]
     },
     "metadata": {},
     "output_type": "display_data"
    }
   ],
   "source": [
    "sns.boxplot(x='Attrition', y='Monthly Income', data=train_data)\n",
    "plt.title(\"Gaji Bulanan dan Attrition\")\n",
    "plt.show()\n"
   ]
  },
  {
   "cell_type": "markdown",
   "metadata": {},
   "source": [
    "Grafik boxplot menunjukkan distribusi Monthly Income (Gaji Bulanan) untuk karyawan yang \"Stayed\" dan \"Left\" hampir sama. Median gaji antara kedua kelompok tidak memiliki perbedaan signifikan, yang berarti gaji bulanan mungkin bukan faktor utama yang memengaruhi keputusan karyawan untuk meninggalkan perusahaan."
   ]
  },
  {
   "cell_type": "code",
   "execution_count": 54,
   "metadata": {},
   "outputs": [
    {
     "data": {
      "image/png": "[encoded data removed]",
      "text/plain": [
       "<Figure size 640x480 with 1 Axes>"
      ]
     },
     "metadata": {},
     "output_type": "display_data"
    }
   ],
   "source": [
    "sns.countplot(x='Number of Promotions', hue='Attrition', data=train_data)\n",
    "plt.title(\"Promosi dan Attrition\")\n",
    "plt.show()\n"
   ]
  },
  {
   "cell_type": "markdown",
   "metadata": {},
   "source": [
    "Dari grafik di atas dapat dilihat bahwa mayoritas karyawan yang \"Left\" tidak pernah mendapatkan promosi (0 promosi), dan karyawan dengan lebih banyak promosi (2 atau lebih) cenderung bertahan (\"Stayed\") dibandingkan meninggalkan perusahaan (\"Left\"), meskipun jumlah mereka relatif lebih sedikit. "
   ]
  },
  {
   "cell_type": "markdown",
   "metadata": {},
   "source": [
    "## F. Hubungan Attrition dan Overtime"
   ]
  },
  {
   "cell_type": "code",
   "execution_count": 55,
   "metadata": {},
   "outputs": [
    {
     "data": {
      "image/png": "[encoded data removed]",
      "text/plain": [
       "<Figure size 640x480 with 1 Axes>"
      ]
     },
     "metadata": {},
     "output_type": "display_data"
    }
   ],
   "source": [
    "sns.countplot(x='Overtime', hue='Attrition', data=train_data)\n",
    "plt.title(\"Hubungan antara Overtime dan Attrition\")\n",
    "plt.xlabel(\"Overtime\")\n",
    "plt.ylabel(\"Jumlah\")\n",
    "plt.show()\n"
   ]
  },
  {
   "cell_type": "markdown",
   "metadata": {},
   "source": [
    "Terlihat bahwa karyawan yang sering lembur memiliki jumlah karyawan yang \"Left\" jauh lebih tinggi dibandingkan dengan yang tidak lembur. Sebaliknya, karyawan yang tidak lembur lebih cenderung tetap tinggal di perusahaan. Overtime memiliki korelasi positif dengan attrition. Hal ini menunjukkan bahwa beban kerja berlebih atau jadwal kerja yang tidak terkontrol dapat meningkatkan keinginan karyawan untuk resign."
   ]
  },
  {
   "cell_type": "markdown",
   "metadata": {},
   "source": [
    "## G. Hubungan Attrition dan Monthly Income"
   ]
  },
  {
   "cell_type": "code",
   "execution_count": 56,
   "metadata": {},
   "outputs": [
    {
     "data": {
      "image/png": "[encoded data removed]",
      "text/plain": [
       "<Figure size 640x480 with 1 Axes>"
      ]
     },
     "metadata": {},
     "output_type": "display_data"
    }
   ],
   "source": [
    "sns.boxplot(x='Attrition', y='Monthly Income', data=train_data)\n",
    "plt.title(\"Hubungan antara Gaji Bulanan dan Attrition\")\n",
    "plt.xlabel(\"Attrition\")\n",
    "plt.ylabel(\"Monthly Income\")\n",
    "plt.show()\n"
   ]
  },
  {
   "cell_type": "markdown",
   "metadata": {},
   "source": [
    "Median gaji untuk kedua kategori ini hampir sama, yang menunjukkan bahwa gaji bulanan mungkin bukan faktor utama yang memengaruhi keputusan karyawan untuk keluar. Walaupun memiliki dampak kecil terhadap attrition secara keseluruhan. Namun, gaji rendah bisa menjadi faktor yang lebih signifikan untuk subkelompok tertentu."
   ]
  },
  {
   "cell_type": "markdown",
   "metadata": {},
   "source": [
    "# v. Feature Engineering"
   ]
  },
  {
   "cell_type": "markdown",
   "metadata": {},
   "source": [
    "## A. Cek duplikasi pada data"
   ]
  },
  {
   "cell_type": "code",
   "execution_count": 57,
   "metadata": {},
   "outputs": [
    {
     "name": "stdout",
     "output_type": "stream",
     "text": [
      "Jumlah baris terduplikat pada data train: 0\n"
     ]
    }
   ],
   "source": [
    "# Cek duplikasi data\n",
    "duplicate_rows = train_data.duplicated().sum()\n",
    "print(f\"Jumlah baris terduplikat pada data train: {duplicate_rows}\")\n"
   ]
  },
  {
   "cell_type": "markdown",
   "metadata": {},
   "source": [
    "Setelah dilakukan pengecekan, tidak ditemukan adanya data duplikat. Oleh karena itu, setiap entri dalam dataset bersifat unik dan merepresentasikan masing-masing karyawan secara individual."
   ]
  },
  {
   "cell_type": "markdown",
   "metadata": {},
   "source": [
    "## B. Splitting Data"
   ]
  },
  {
   "cell_type": "code",
   "execution_count": 58,
   "metadata": {},
   "outputs": [
    {
     "name": "stdout",
     "output_type": "stream",
     "text": [
      "Data Train: (47678, 23), Data Test: (11920, 23)\n"
     ]
    }
   ],
   "source": [
    "# Pisahkan fitur (X) dan target (y)\n",
    "X = train_data.drop(columns=['Attrition'])\n",
    "y = train_data['Attrition']\n",
    "\n",
    "# Train-test split\n",
    "X_train, X_test, y_train, y_test = train_test_split(X, y, test_size=0.2, random_state=13)\n",
    "print(f\"Data Train: {X_train.shape}, Data Test: {X_test.shape}\")\n"
   ]
  },
  {
   "cell_type": "markdown",
   "metadata": {},
   "source": [
    "Dataset dibagi menjadi X_train, X_test, y_train, dan y_test untuk memisahkan fitur (features) dan label (target) guna keperluan pelatihan (training) dan pengujian (testing). Proses ini bertujuan untuk memastikan model dapat dievaluasi secara akurat berdasarkan data yang tidak terlihat selama pelatihan."
   ]
  },
  {
   "cell_type": "markdown",
   "metadata": {},
   "source": [
    "## C. Cek Missing Value dan Outlier"
   ]
  },
  {
   "cell_type": "markdown",
   "metadata": {},
   "source": [
    "### Cek Missing Values"
   ]
  },
  {
   "cell_type": "code",
   "execution_count": 59,
   "metadata": {},
   "outputs": [
    {
     "name": "stdout",
     "output_type": "stream",
     "text": [
      "Missing values per column:\n",
      "Series([], dtype: int64)\n"
     ]
    }
   ],
   "source": [
    "# Cek total missing values per kolom\n",
    "missing_values = X_train.isnull().sum()\n",
    "print(\"Missing values per column:\")\n",
    "print(missing_values[missing_values > 0])\n"
   ]
  },
  {
   "cell_type": "markdown",
   "metadata": {},
   "source": [
    "Hasil pemeriksaan menunjukkan tidak ada missing value pada dataset. Oleh karena itu, data dapat langsung digunakan untuk tahap pemrosesan dan analisis lebih lanjut."
   ]
  },
  {
   "cell_type": "markdown",
   "metadata": {},
   "source": [
    "### Cek Handling Outlier"
   ]
  },
  {
   "cell_type": "code",
   "execution_count": 60,
   "metadata": {},
   "outputs": [
    {
     "name": "stdout",
     "output_type": "stream",
     "text": [
      "Outlier handling selesai.\n",
      "Dimensi X_train: (47678, 23)\n"
     ]
    }
   ],
   "source": [
    "# Identifikasi kolom numerik\n",
    "numerical_columns = X_train.select_dtypes(include=['int64', 'float64']).columns.tolist()\n",
    "\n",
    "# Handling Outliers di X_train\n",
    "def handle_outliers_tukey(X, columns, factor=1.5):\n",
    "    X = X.copy()  # Hindari memodifikasi data asli\n",
    "    for col in columns:\n",
    "        Q1 = X[col].quantile(0.25)\n",
    "        Q3 = X[col].quantile(0.75)\n",
    "        IQR = Q3 - Q1\n",
    "        lower_bound = Q1 - factor * IQR\n",
    "        upper_bound = Q3 + factor * IQR\n",
    "        # Clipping nilai outlier\n",
    "        X[col] = X[col].clip(lower=lower_bound, upper=upper_bound)\n",
    "    return X\n",
    "\n",
    "# Terapkan Handling Outlier di X_train\n",
    "X_train = handle_outliers_tukey(X_train, numerical_columns)\n",
    "\n",
    "# Validasi hasil\n",
    "print(\"Outlier handling selesai.\")\n",
    "print(f\"Dimensi X_train: {X_train.shape}\")\n"
   ]
  },
  {
   "cell_type": "markdown",
   "metadata": {},
   "source": [
    "Penanganan outlier dilakukan menggunakan Tukey's Rule, yang mengidentifikasi data di luar rentang interkuartil (IQR) sebagai outlier. Pendekatan ini dipilih karena efektif untuk mendeteksi dan menangani nilai ekstrem pada distribusi data tanpa memengaruhi informasi utama.\n",
    "\n",
    "Setelah proses outlier handling selesai, dimensi data adalah sebagai berikut:\n",
    "Dimensi X_train: (47,678, 23)"
   ]
  },
  {
   "cell_type": "markdown",
   "metadata": {},
   "source": [
    "## D. Pipeline Preprocessing"
   ]
  },
  {
   "cell_type": "code",
   "execution_count": 61,
   "metadata": {},
   "outputs": [],
   "source": [
    "# Custom Transformer untuk Encoding Target\n",
    "class TargetEncoder(BaseEstimator, TransformerMixin):\n",
    "    def fit(self, y):\n",
    "        self.encoder = LabelEncoder()\n",
    "        self.encoder.fit(y)\n",
    "        return self\n",
    "\n",
    "    def transform(self, y):\n",
    "        return self.encoder.transform(y)\n",
    "\n",
    "    def inverse_transform(self, y):\n",
    "        return self.encoder.inverse_transform(y)\n",
    "\n",
    "# Tentukan kolom numerik dan kategorikal\n",
    "numerical_columns = X_train.select_dtypes(include=['int64', 'float64']).columns.tolist()\n",
    "categorical_columns = X_train.select_dtypes(include=['object']).columns.tolist()\n",
    "\n",
    "# Pipeline untuk numerik\n",
    "numerical_pipeline = Pipeline(steps=[\n",
    "    ('imputer', SimpleImputer(strategy='mean')),\n",
    "    ('scaler', StandardScaler())\n",
    "])\n",
    "\n",
    "# Pipeline untuk kategorikal\n",
    "categorical_pipeline = Pipeline(steps=[\n",
    "    ('imputer', SimpleImputer(strategy='most_frequent')),\n",
    "    ('onehot', OneHotEncoder(handle_unknown='ignore'))\n",
    "])\n",
    "\n",
    "# ColumnTransformer untuk preprocessing\n",
    "preprocessor = ColumnTransformer(transformers=[\n",
    "    ('num', numerical_pipeline, numerical_columns),\n",
    "    ('cat', categorical_pipeline, categorical_columns)\n",
    "])\n",
    "\n",
    "# Pipeline utama\n",
    "pipeline = Pipeline(steps=[\n",
    "    ('preprocessor', preprocessor),\n",
    "    ('model', GradientBoostingClassifier())\n",
    "])\n"
   ]
  },
  {
   "cell_type": "markdown",
   "metadata": {},
   "source": [
    "Pipeline preprocessing digunakan untuk mengotomatisasi proses transformasi data. Pipeline ini mencakup langkah-langkah seperti encoding untuk mengubah data kategorikal menjadi format numerik, serta normalisasi/scaling untuk memastikan fitur memiliki skala yang seragam. Pendekatan ini digunakan agar preprocessing lebih efisien, konsisten, dan mudah diintegrasikan dengan model machine learning."
   ]
  },
  {
   "cell_type": "markdown",
   "metadata": {},
   "source": [
    "## E. Training Pipeline"
   ]
  },
  {
   "cell_type": "code",
   "execution_count": 62,
   "metadata": {},
   "outputs": [
    {
     "name": "stdout",
     "output_type": "stream",
     "text": [
      "Accuracy: 0.7569630872483222\n",
      "Precision: 0.7445766270118964\n",
      "Recall: 0.7475847532056912\n",
      "F1-Score: 0.7460776579893067\n",
      "ROC-AUC: 0.8474407601106799\n"
     ]
    }
   ],
   "source": [
    "# Fit pipeline\n",
    "pipeline.fit(X_train, y_train)\n",
    "\n",
    "# Prediksi\n",
    "y_pred = pipeline.predict(X_test)\n",
    "y_proba = pipeline.predict_proba(X_test)\n",
    "\n",
    "# Evaluasi\n",
    "print(f\"Accuracy: {accuracy_score(y_test, y_pred)}\")\n",
    "print(f\"Precision: {precision_score(y_test, y_pred, pos_label='Left')}\")\n",
    "print(f\"Recall: {recall_score(y_test, y_pred, pos_label='Left')}\")\n",
    "print(f\"F1-Score: {f1_score(y_test, y_pred, pos_label='Left')}\")\n",
    "print(f\"ROC-AUC: {roc_auc_score(y_test, y_proba[:, 1])}\")"
   ]
  },
  {
   "cell_type": "markdown",
   "metadata": {},
   "source": [
    "Pipeline perlu dilatih terlebih dahulu menggunakan data training untuk memastikan semua langkah preprocessing dan model dapat beradaptasi dengan pola dalam data. Setelah proses training selesai, evaluasi dilakukan menggunakan data testing dengan hasil sebagai berikut:\n",
    "\n",
    "Accuracy: 0.7569, \n",
    "Precision: 0.7446, \n",
    "Recall: 0.7476, \n",
    "F1-Score: 0.7461, \n",
    "ROC-AUC: 0.8474. \n",
    "Hasil ini menunjukkan bahwa model memiliki kinerja yang cukup baik dalam memprediksi potensi attrition. Nilai ROC-AUC yang mendekati 1 mengindikasikan kemampuan model yang kuat dalam membedakan antara karyawan yang akan berhenti dan yang bertahan, sementara nilai Precision dan Recall yang seimbang mencerminkan performa yang konsisten dalam klasifikasi."
   ]
  },
  {
   "cell_type": "markdown",
   "metadata": {},
   "source": [
    "## F. Cek Dimensi & Missing Value"
   ]
  },
  {
   "cell_type": "code",
   "execution_count": 63,
   "metadata": {},
   "outputs": [
    {
     "name": "stdout",
     "output_type": "stream",
     "text": [
      "Dimensi X_train: (47678, 23)\n",
      "Dimensi y_train: (47678,)\n",
      "Dimensi X_test: (11920, 23)\n",
      "Dimensi y_test: (11920,)\n",
      "Missing values setelah preprocessing:\n",
      "0     0\n",
      "1     0\n",
      "2     0\n",
      "3     0\n",
      "4     0\n",
      "5     0\n",
      "6     0\n",
      "7     0\n",
      "8     0\n",
      "9     0\n",
      "10    0\n",
      "11    0\n",
      "12    0\n",
      "13    0\n",
      "14    0\n",
      "15    0\n",
      "16    0\n",
      "17    0\n",
      "18    0\n",
      "19    0\n",
      "20    0\n",
      "21    0\n",
      "22    0\n",
      "23    0\n",
      "24    0\n",
      "25    0\n",
      "26    0\n",
      "27    0\n",
      "28    0\n",
      "29    0\n",
      "30    0\n",
      "31    0\n",
      "32    0\n",
      "33    0\n",
      "34    0\n",
      "35    0\n",
      "36    0\n",
      "37    0\n",
      "38    0\n",
      "39    0\n",
      "40    0\n",
      "41    0\n",
      "42    0\n",
      "43    0\n",
      "44    0\n",
      "45    0\n",
      "46    0\n",
      "47    0\n",
      "48    0\n",
      "49    0\n",
      "50    0\n",
      "51    0\n",
      "52    0\n",
      "53    0\n",
      "54    0\n",
      "55    0\n",
      "56    0\n",
      "dtype: int64\n"
     ]
    }
   ],
   "source": [
    "# Validasi dimensi\n",
    "print(f\"Dimensi X_train: {X_train.shape}\")\n",
    "print(f\"Dimensi y_train: {y_train.shape}\")\n",
    "print(f\"Dimensi X_test: {X_test.shape}\")\n",
    "print(f\"Dimensi y_test: {y_test.shape}\")\n",
    "\n",
    "# Validasi missing values setelah imputasi\n",
    "print(\"Missing values setelah preprocessing:\")\n",
    "print(pd.DataFrame(pipeline.named_steps['preprocessor'].transform(X_train)).isnull().sum())\n"
   ]
  },
  {
   "cell_type": "markdown",
   "metadata": {},
   "source": [
    "Memeriksa dimensi data setelah pembagian dataset menjadi data training dan testing. Ini memastikan bahwa data telah terbagi dengan benar sesuai proporsi yang diinginkan. Memeriksa apakah masih ada missing values di data setelah langkah preprocessing dilakukan melalui pipeline."
   ]
  },
  {
   "cell_type": "code",
   "execution_count": 64,
   "metadata": {},
   "outputs": [],
   "source": [
    "X_train = pd.DataFrame(X_train, columns=numerical_columns + categorical_columns)\n",
    "X_test = pd.DataFrame(X_test, columns=numerical_columns + categorical_columns)"
   ]
  },
  {
   "cell_type": "markdown",
   "metadata": {},
   "source": [
    "Memberikan nama kolom kembali ke X_train dan X_test setelah preprocessing."
   ]
  },
  {
   "cell_type": "markdown",
   "metadata": {},
   "source": [
    "# vi. Model Definition"
   ]
  },
  {
   "cell_type": "markdown",
   "metadata": {},
   "source": [
    "## **Evaluation Metrics**"
   ]
  },
  {
   "cell_type": "markdown",
   "metadata": {},
   "source": [
    "1. **Accuracy**: \n",
    "   - Menunjukkan persentase prediksi yang benar dari total data.\n",
    "   - **Alasan Penggunaan**: Berguna untuk memberikan gambaran umum performa model, terutama karena dataset ini memiliki distribusi target yang cukup seimbang.\n",
    "\n",
    "2. **Precision**: \n",
    "   - Mengukur proporsi prediksi karyawan yang resign (`Attrition`) yang benar-benar sesuai dengan kenyataan.\n",
    "   - **Alasan Penggunaan**: Penting untuk meminimalkan kesalahan dalam memprediksi karyawan resign, sehingga sumber daya dapat dialokasikan secara lebih efisien.\n",
    "\n",
    "3. **Recall**: \n",
    "   - Mengukur seberapa baik model mampu mendeteksi karyawan yang benar-benar akan resign.\n",
    "   - **Alasan Penggunaan**: Berguna untuk meminimalkan kesalahan dengan memastikan semua karyawan yang berisiko resign dapat teridentifikasi.\n",
    "\n",
    "4. **F1-Score**: \n",
    "   - Merupakan rata-rata harmonis dari Precision dan Recall.\n",
    "   - **Alasan Penggunaan**: Memberikan keseimbangan antara akurasi prediksi karyawan resign dan kemampuan model dalam menangkap sebanyak mungkin karyawan resign.\n",
    "\n",
    "5. **ROC-AUC**: \n",
    "   - Menilai kemampuan model dalam membedakan antara karyawan yang resign (`Left`) dan yang tidak (`Stayed`) pada berbagai nilai threshold.\n",
    "   - **Alasan Penggunaan**: Berguna untuk evaluasi menyeluruh model, terutama untuk kasus probabilistik."
   ]
  },
  {
   "cell_type": "markdown",
   "metadata": {},
   "source": [
    "## **Model Training and Hyperparameters**"
   ]
  },
  {
   "cell_type": "markdown",
   "metadata": {},
   "source": [
    "1. **K-Nearest Neighbors (KNN):**\n",
    "   - **Hyperparameter**: `n_neighbors=5`.\n",
    "   - **Alasan Penggunaan**: Memberikan baseline performa awal untuk memahami hubungan berbasis jarak antar data.\n",
    "\n",
    "2. **Gradient Boosting:**\n",
    "   - **Hyperparameter**: `n_estimators=100, learning_rate=0.1, max_depth=3`.\n",
    "   - **Alasan Penggunaan**: Memperbaiki prediksi secara iteratif dengan mengurangi kesalahan residual, sering menghasilkan kinerja terbaik dalam data kompleks.\n",
    "\n",
    "3. **Decision Tree:**\n",
    "   - **Hyperparameter**: `max_depth=5`.\n",
    "   - **Alasan Penggunaan**: Mudah diinterpretasikan dan memberikan wawasan tentang fitur yang relevan tanpa memerlukan scaling.\n",
    "\n",
    "4. **Random Forest:**\n",
    "   - **Hyperparameter**: `n_estimators=100, max_depth=None`.\n",
    "   - **Alasan Penggunaan**: Mengurangi risiko overfitting dengan menggabungkan beberapa Decision Tree, menghasilkan prediksi yang lebih stabil.\n"
   ]
  },
  {
   "cell_type": "markdown",
   "metadata": {},
   "source": [
    "## Jawaban Pertanyaan"
   ]
  },
  {
   "cell_type": "markdown",
   "metadata": {},
   "source": [
    "### **1. Latar Belakang dan Cara Kerja Bagging**\n",
    "- **Latar Belakang**: Bagging (Bootstrap Aggregating) adalah teknik ensemble yang digunakan untuk mengurangi varians model dengan melatih beberapa model pada subset data yang berbeda. Hal ini diperlukan karena model seperti Decision Tree rentan terhadap overfitting.\n",
    "\n",
    "### **2. Perbedaan Random Forest dengan Boosting**\n",
    "- **Random Forest**:\n",
    "  - Menggunakan bagging, di mana banyak Decision Tree dilatih secara paralel pada subset data yang berbeda.\n",
    "  - Hasil akhir diperoleh melalui voting atau rata-rata prediksi.\n",
    "  - **Fokus**: Mengurangi varians.\n",
    "- **Boosting (e.g., Gradient Boosting)**:\n",
    "  - Model dilatih secara iteratif, di mana setiap model baru berusaha memperbaiki kesalahan model sebelumnya.\n",
    "  - Menggabungkan model lemah menjadi model yang lebih kuat.\n",
    "  - **Fokus**: Mengurangi bias dan kesalahan residual.\n",
    "\n",
    "### **3. Apa itu Cross Validation?**\n",
    "- **Definisi**: Cross Validation adalah teknik evaluasi di mana dataset dibagi menjadi beberapa subset (folds). Model dilatih pada subset tertentu (train folds) dan diuji pada subset lainnya (validation fold).\n",
    "- **Manfaat**:\n",
    "  - Memberikan estimasi performa model yang lebih andal.\n",
    "  - Mencegah overfitting dengan memastikan model diuji pada berbagai bagian dataset."
   ]
  },
  {
   "cell_type": "markdown",
   "metadata": {},
   "source": [
    "### **Referensi**\n",
    "1. Breiman, L. (2001). Random Forests. *Machine Learning*. [DOI: 10.1023/A:1010933404324](https://doi.org/10.1023/A:1010933404324)\n",
    "2. Friedman, J. H. (2001). Greedy function approximation: A gradient boosting machine. *The Annals of Statistics*. [DOI: 10.1214/aos/1013203451](https://doi.org/10.1214/aos/1013203451)\n",
    "3. Kohavi, R. (1995). A study of cross-validation and bootstrap for accuracy estimation and model selection. *IJCAI Proceedings*.\n",
    "4. Dietterich, T. G. (2000). Ensemble Methods in Machine Learning. *International Workshop on Multiple Classifier Systems*. [DOI: 10.1007/3-540-45014-9_1](https://doi.org/10.1007/3-540-45014-9_1)\n"
   ]
  },
  {
   "cell_type": "markdown",
   "metadata": {},
   "source": [
    "# vii. Model Training"
   ]
  },
  {
   "cell_type": "code",
   "execution_count": 65,
   "metadata": {},
   "outputs": [],
   "source": [
    "def create_pipeline(model):\n",
    "    return Pipeline(steps=[\n",
    "        ('preprocessor', preprocessor),  # Preprocessing (numerical & categorical)\n",
    "        ('model', model)  # Model\n",
    "    ])\n"
   ]
  },
  {
   "cell_type": "code",
   "execution_count": 66,
   "metadata": {},
   "outputs": [
    {
     "name": "stdout",
     "output_type": "stream",
     "text": [
      "Tuning KNN...\n",
      "Tuning Decision Tree...\n",
      "Tuning Random Forest...\n",
      "Tuning Gradient Boosting...\n",
      "Tuning Bagging Classifier...\n",
      "                Model                                        Best Params  \\\n",
      "3   Gradient Boosting  {'model__learning_rate': 0.2, 'model__max_dept...   \n",
      "2       Random Forest  {'model__max_depth': 20, 'model__min_samples_s...   \n",
      "4  Bagging Classifier                       {'model__n_estimators': 100}   \n",
      "1       Decision Tree  {'model__max_depth': 10, 'model__min_samples_s...   \n",
      "0                 KNN  {'model__n_neighbors': 9, 'model__weights': 'u...   \n",
      "\n",
      "   CV Score  Test Score  \n",
      "3  0.757121    0.758473  \n",
      "2  0.748249    0.748238  \n",
      "4  0.737992    0.740017  \n",
      "1  0.722367    0.723909  \n",
      "0  0.685012    0.692366  \n"
     ]
    }
   ],
   "source": [
    "# Models to tune (tanpa SVM)\n",
    "models = {\n",
    "    \"KNN\": create_pipeline(KNeighborsClassifier()),\n",
    "    \"Decision Tree\": create_pipeline(DecisionTreeClassifier()),\n",
    "    \"Random Forest\": create_pipeline(RandomForestClassifier()),\n",
    "    \"Gradient Boosting\": create_pipeline(GradientBoostingClassifier()),\n",
    "    \"Bagging Classifier\": create_pipeline(BaggingClassifier(estimator=DecisionTreeClassifier()))\n",
    "}\n",
    "\n",
    "# Hyperparameter grids for each model (tanpa SVM)\n",
    "param_grids = {\n",
    "    \"KNN\": {\"model__n_neighbors\": [3, 5, 7, 9], \"model__weights\": [\"uniform\", \"distance\"]},\n",
    "    \"Decision Tree\": {\"model__max_depth\": [3, 5, 10, None], \"model__min_samples_split\": [2, 5, 10]},\n",
    "    \"Random Forest\": {\"model__n_estimators\": [50, 100, 200], \"model__max_depth\": [None, 10, 20], \"model__min_samples_split\": [2, 5]},\n",
    "    \"Gradient Boosting\": {\"model__n_estimators\": [50, 100], \"model__learning_rate\": [0.05, 0.1, 0.2], \"model__max_depth\": [3, 5]},\n",
    "    \"Bagging Classifier\": {\"model__n_estimators\": [10, 50, 100]}\n",
    "}\n",
    "\n",
    "# Results dictionary\n",
    "results = []\n",
    "\n",
    "# Perform hyperparameter tuning using GridSearchCV\n",
    "for model_name, model in models.items():\n",
    "    print(f\"Tuning {model_name}...\")\n",
    "    grid = GridSearchCV(estimator=model, param_grid=param_grids[model_name], cv=5, scoring=\"accuracy\", n_jobs=-1)\n",
    "    grid.fit(X_train, y_train)\n",
    "    best_model = grid.best_estimator_\n",
    "    best_params = grid.best_params_\n",
    "    cv_score = cross_val_score(best_model, X_train, y_train, cv=5, scoring=\"accuracy\").mean()\n",
    "    test_score = accuracy_score(y_test, best_model.predict(X_test))\n",
    "    \n",
    "    results.append({\n",
    "        \"Model\": model_name,\n",
    "        \"Best Params\": best_params,\n",
    "        \"CV Score\": cv_score,\n",
    "        \"Test Score\": test_score\n",
    "    })\n",
    "\n",
    "# Create results DataFrame and sort by Test Score\n",
    "results_df = pd.DataFrame(results).sort_values(by=\"Test Score\", ascending=False)\n",
    "\n",
    "# Display Results\n",
    "print(results_df)\n"
   ]
  },
  {
   "cell_type": "markdown",
   "metadata": {},
   "source": [
    "### **Hasil dan Analisis Model**"
   ]
  },
  {
   "cell_type": "markdown",
   "metadata": {},
   "source": [
    "#### **1. Gradient Boosting**\n",
    "- **Parameter Terbaik:**\n",
    "  - `learning_rate`: 0.2\n",
    "  - `max_depth`: 3\n",
    "  - `n_estimators`: 100\n",
    "- **Skor:**\n",
    "  - Cross-Validation (CV): **75.71%**\n",
    "  - Test: **75.85%**\n",
    "- **Analisis:**\n",
    "  - Gradient Boosting menunjukkan performa terbaik dibandingkan model lainnya. Model ini bekerja dengan memperbaiki kesalahan prediksi secara iteratif melalui penggabungan decision tree sederhana.\n",
    "  - **Kelebihan:** Memiliki keseimbangan antara bias rendah dan varians rendah, cocok untuk masalah dengan pola data kompleks.\n",
    "\n",
    "---\n",
    "\n",
    "#### **2. Random Forest**\n",
    "- **Parameter Terbaik:**\n",
    "  - `max_depth`: 20\n",
    "  - `min_samples_split`: 5\n",
    "  - `n_estimators`: 100\n",
    "- **Skor:**\n",
    "  - CV: **74.82%**\n",
    "  - Test: **74.82%**\n",
    "- **Analisis:**\n",
    "  - Random Forest menjadi pesaing utama Gradient Boosting. Dengan teknik ensemble berbasis bagging, model ini menggabungkan banyak decision tree untuk meningkatkan akurasi prediksi.\n",
    "  - **Kelebihan:** Cepat dilatih, mendukung paralelisasi, serta memberikan interpretasi melalui *feature importance*.\n",
    "\n",
    "---\n",
    "\n",
    "#### **3. Bagging Classifier**\n",
    "- **Parameter Terbaik:**\n",
    "  - `n_estimators`: 100\n",
    "- **Skor:**\n",
    "  - CV: **73.80%**\n",
    "  - Test: **74.00%**\n",
    "- **Analisis:**\n",
    "  - Bagging Classifier menggunakan teknik ensemble dengan sampling ulang untuk meningkatkan stabilitas prediksi. Namun, performanya masih di bawah Gradient Boosting dan Random Forest.\n",
    "  - **Kelebihan:** Stabil dan sederhana, cocok untuk mengurangi varians.\n",
    "\n",
    "---\n",
    "\n",
    "#### **4. Decision Tree**\n",
    "- **Parameter Terbaik:**\n",
    "  - `max_depth`: 10\n",
    "  - `min_samples_split`: 5\n",
    "- **Skor:**\n",
    "  - CV: **72.24%**\n",
    "  - Test: **72.39%**\n",
    "- **Analisis:**\n",
    "  - Decision Tree menawarkan kecepatan pelatihan dan interpretasi yang mudah, meskipun kinerjanya lebih rendah dibandingkan model ensemble.\n",
    "  - **Kelebihan:** Mudah diinterpretasi, cocok untuk analisis awal.\n",
    "  - **Kekurangan:** Rentan terhadap *overfitting* pada dataset besar.\n",
    "\n",
    "---\n",
    "\n",
    "#### **5. K-Nearest Neighbors (KNN)**\n",
    "- **Parameter Terbaik:**\n",
    "  - `n_neighbors`: 9\n",
    "  - `weights`: 'uniform'\n",
    "- **Skor:**\n",
    "  - CV: **68.50%**\n",
    "  - Test: **69.24%**\n",
    "- **Analisis:**\n",
    "  - KNN memiliki performa terendah di antara semua model yang diuji. Sensitif terhadap skala data dan kurang optimal untuk dataset besar.\n",
    "  - **Kelebihan:** Mudah digunakan sebagai baseline awal.\n",
    "  - **Kekurangan:** Tidak efisien pada dataset besar dan cenderung sensitif terhadap dimensi data tinggi."
   ]
  },
  {
   "cell_type": "markdown",
   "metadata": {},
   "source": [
    "### **Kesimpulan dan Rekomendasi**"
   ]
  },
  {
   "cell_type": "markdown",
   "metadata": {},
   "source": [
    "#### **Model Terbaik**\n",
    "- **Gradient Boosting** adalah pilihan terbaik dengan test score **75.85%**. Model ini menangani kesalahan prediksi secara iteratif dan memberikan hasil yang sangat stabil.\n",
    "\n",
    "#### **Pesaing Kuat**\n",
    "- **Random Forest** menjadi alternatif solid dengan test score **74.82%**, serta lebih cepat dilatih dibandingkan Gradient Boosting.\n",
    "\n",
    "#### **Model untuk Interpretasi**\n",
    "- **Decision Tree** adalah pilihan yang cocok jika interpretasi menjadi prioritas, meskipun akurasinya lebih rendah dibandingkan model ensemble.\n",
    "\n",
    "#### **Model Baseline**\n",
    "- **KNN** dapat digunakan sebagai baseline awal, tetapi tidak direkomendasikan untuk dataset besar karena kompleksitas prediksinya yang tinggi.\n"
   ]
  },
  {
   "cell_type": "markdown",
   "metadata": {},
   "source": [
    "# viii. Model Evaluation"
   ]
  },
  {
   "cell_type": "code",
   "execution_count": 67,
   "metadata": {},
   "outputs": [
    {
     "name": "stdout",
     "output_type": "stream",
     "text": [
      "=== Model Evaluation ===\n",
      "Accuracy  : 75.70%\n",
      "Precision : 74.46%\n",
      "Recall    : 74.76%\n",
      "F1-Score  : 74.61%\n",
      "ROC-AUC   : 0.15\n",
      "\n",
      "Classification Report:\n",
      "              precision    recall  f1-score   support\n",
      "\n",
      "      Stayed       0.74      0.75      0.75      5693\n",
      "        Left       0.77      0.77      0.77      6227\n",
      "\n",
      "    accuracy                           0.76     11920\n",
      "   macro avg       0.76      0.76      0.76     11920\n",
      "weighted avg       0.76      0.76      0.76     11920\n",
      "\n"
     ]
    },
    {
     "data": {
      "image/png": "[encoded data removed]",
      "text/plain": [
       "<Figure size 800x600 with 2 Axes>"
      ]
     },
     "metadata": {},
     "output_type": "display_data"
    },
    {
     "data": {
      "image/png": "[encoded data removed]",
      "text/plain": [
       "<Figure size 800x600 with 1 Axes>"
      ]
     },
     "metadata": {},
     "output_type": "display_data"
    }
   ],
   "source": [
    "# Evaluasi model dengan data test\n",
    "y_pred = pipeline.predict(X_test)\n",
    "y_proba = pipeline.predict_proba(X_test)[:, 1]  # Probabilitas kelas positif (resign)\n",
    "\n",
    "# Metrik evaluasi\n",
    "accuracy = accuracy_score(y_test, y_pred)\n",
    "precision = precision_score(y_test, y_pred, pos_label='Left')\n",
    "recall = recall_score(y_test, y_pred, pos_label='Left')\n",
    "f1 = f1_score(y_test, y_pred, pos_label='Left')\n",
    "roc_auc = roc_auc_score((y_test == 'Left').astype(int), y_proba)  # Konversi ke numerik untuk ROC-AUC\n",
    "\n",
    "# Tampilkan hasil evaluasi\n",
    "print(\"=== Model Evaluation ===\")\n",
    "print(f\"Accuracy  : {accuracy:.2%}\")\n",
    "print(f\"Precision : {precision:.2%}\")\n",
    "print(f\"Recall    : {recall:.2%}\")\n",
    "print(f\"F1-Score  : {f1:.2%}\")\n",
    "print(f\"ROC-AUC   : {roc_auc:.2f}\\n\")\n",
    "\n",
    "# Classification Report\n",
    "print(\"Classification Report:\")\n",
    "print(classification_report(y_test, y_pred, target_names=['Stayed', 'Left']))\n",
    "\n",
    "# Confusion Matrix\n",
    "conf_matrix = confusion_matrix(y_test, y_pred)\n",
    "plt.figure(figsize=(8, 6))\n",
    "sns.heatmap(conf_matrix, annot=True, fmt='d', cmap='Blues', xticklabels=['Stayed', 'Left'], yticklabels=['Stayed', 'Left'])\n",
    "plt.title('Confusion Matrix')\n",
    "plt.xlabel('Predicted')\n",
    "plt.ylabel('Actual')\n",
    "plt.show()\n",
    "\n",
    "# ROC Curve\n",
    "fpr, tpr, thresholds = roc_curve((y_test == 'Left').astype(int), y_proba)\n",
    "plt.figure(figsize=(8, 6))\n",
    "plt.plot(fpr, tpr, label=f\"ROC Curve (AUC = {roc_auc:.2f})\")\n",
    "plt.plot([0, 1], [0, 1], linestyle='--', color='grey')\n",
    "plt.title('ROC Curve')\n",
    "plt.xlabel('False Positive Rate')\n",
    "plt.ylabel('True Positive Rate')\n",
    "plt.legend(loc=\"lower right\")\n",
    "plt.show()"
   ]
  },
  {
   "cell_type": "markdown",
   "metadata": {},
   "source": [
    "### **Evaluasi Metrics**"
   ]
  },
  {
   "cell_type": "markdown",
   "metadata": {},
   "source": [
    "#### **1. Akurasi**\n",
    "- **Skor:** 75.70%\n",
    "- **Penjelasan:**\n",
    "  - Model berhasil memprediksi dengan benar sebanyak 75.70% dari total data *test*. \n",
    "  - Metrik ini menunjukkan performa keseluruhan model, tetapi tidak cukup untuk memahami kesalahan prediksi pada kelas tertentu (*false positives* dan *false negatives*).\n",
    "\n",
    "---\n",
    "\n",
    "#### **2. Precision**\n",
    "- **Skor:** 74.46%\n",
    "- **Penjelasan:**\n",
    "  - Dari semua prediksi karyawan akan resign (`Left`), sebanyak 74.46% benar-benar resign.\n",
    "  - Precision yang baik mengindikasikan bahwa model cukup akurat dalam memberikan prediksi resign.\n",
    "\n",
    "---\n",
    "\n",
    "#### **3. Recall**\n",
    "- **Skor:** 74.76%\n",
    "- **Penjelasan:**\n",
    "  - Dari semua karyawan yang benar-benar resign, model mampu mendeteksi 74.76% di antaranya.\n",
    "  - Recall yang cukup baik menunjukkan bahwa model dapat menangkap sebagian besar karyawan yang berisiko resign, meskipun masih ada yang tidak terdeteksi (*false negatives*).\n",
    "\n",
    "---\n",
    "\n",
    "#### **4. F1-Score**\n",
    "- **Skor:** 74.61%\n",
    "- **Penjelasan:**\n",
    "  - F1-Score adalah rata-rata harmonis antara Precision dan Recall.\n",
    "  - Metrik ini relevan karena kasus ini membutuhkan keseimbangan antara keduanya untuk meminimalkan kesalahan prediksi.\n",
    "\n",
    "---\n",
    "\n",
    "#### **5. ROC-AUC**\n",
    "- **Skor:** 0.15\n",
    "- **Penjelasan:**\n",
    "  - Skor ROC-AUC yang sangat rendah menunjukkan bahwa model kesulitan membedakan antara karyawan yang resign dan tidak resign.\n",
    "  - Hal ini mengindikasikan bahwa probabilitas prediksi yang diberikan oleh model tidak cukup andal.\n",
    "\n",
    "---\n",
    "\n",
    "#### **Confusion Matrix**\n",
    "- **Stayed (Tidak Resign):**\n",
    "  - **True Positives (TP):** 4,256 karyawan diprediksi tetap tinggal dan memang tetap tinggal.\n",
    "  - **False Negatives (FN):** 1,460 karyawan yang resign tetapi diprediksi tetap tinggal.\n",
    "- **Left (Resign):**\n",
    "  - **True Negatives (TN):** 4,767 karyawan diprediksi resign dan benar-benar resign.\n",
    "  - **False Positives (FP):** 1,437 karyawan diprediksi resign tetapi sebenarnya tidak resign.\n",
    "\n",
    "---\n",
    "\n",
    "### **Insight**\n",
    "1. **Kelebihan:**\n",
    "   - Model menunjukkan keseimbangan yang baik antara Precision dan Recall untuk memprediksi karyawan yang akan resign.\n",
    "   - Akurasi 75.70% menunjukkan bahwa model mampu memberikan prediksi yang cukup baik untuk pengambilan keputusan awal.\n",
    "\n",
    "2. **Kekurangan:**\n",
    "   - Skor ROC-AUC yang rendah (0.15) menandakan bahwa model tidak andal dalam memberikan probabilitas prediksi, sehingga sulit membedakan antara dua kelas.\n",
    "   - Jumlah *false negatives* (1,460) masih cukup signifikan, yang berarti ada banyak karyawan yang resign tetapi tidak terdeteksi oleh model.\n",
    "\n",
    "3. **Saran Perbaikan:**\n",
    "   - **Perbaikan ROC-AUC:** Lakukan tuning lebih mendalam pada parameter model Gradient Boosting, atau coba metode ensemble lain seperti Stacking untuk meningkatkan performa.\n",
    "   - **Feature Engineering:** Identifikasi fitur baru yang lebih relevan dengan *attrition*, seperti kepuasan kerja atau beban kerja.\n",
    "   - **Penyesuaian Data:** Jika distribusi kelas tidak seimbang, pertimbangkan penggunaan teknik *oversampling* seperti SMOTE atau *undersampling* untuk meningkatkan akurasi kelas minoritas.\n",
    "\n",
    "---\n",
    "\n",
    "### **Kesimpulan**\n",
    "Model Gradient Boosting memberikan hasil yang cukup baik dengan Accuracy **75.70%**, Precision **74.46%**, Recall **74.76%**, dan F1-Score **74.61%**. Namun, rendahnya skor ROC-AUC (0.15) menunjukkan bahwa model masih perlu dioptimalkan lebih lanjut untuk memberikan probabilitas prediksi yang lebih akurat. Model ini dapat digunakan sebagai langkah awal untuk memprediksi *attrition*, tetapi membutuhkan penyempurnaan sebelum dapat diandalkan sepenuhnya.\n"
   ]
  },
  {
   "cell_type": "markdown",
   "metadata": {},
   "source": [
    "# ix. Model Saving"
   ]
  },
  {
   "cell_type": "code",
   "execution_count": 68,
   "metadata": {},
   "outputs": [
    {
     "data": {
      "text/plain": [
       "['final_pipeline_model.pkl']"
      ]
     },
     "execution_count": 68,
     "metadata": {},
     "output_type": "execute_result"
    }
   ],
   "source": [
    "# Simpan model terbaik ke file\n",
    "\n",
    "joblib.dump(pipeline, \"final_pipeline_model.pkl\")\n"
   ]
  },
  {
   "cell_type": "markdown",
   "metadata": {},
   "source": [
    "Model yang telah dilatih disimpan dalam bentuk file **`.pkl`** menggunakan library `joblib`. Format ini dipilih karena efisien untuk menyimpan model machine learning, termasuk pipeline preprocessing dan parameter model. \n",
    "\n",
    "#### **Kegunaan:**\n",
    "1. **Reuse untuk Inference:** File `.pkl` memungkinkan model yang telah disimpan untuk diload kembali tanpa perlu melatih ulang. Hal ini mempercepat proses deployment atau prediksi pada data baru.\n",
    "2. **Konsistensi:** Menjamin bahwa model yang digunakan untuk inference adalah model yang sama dengan yang telah dilatih dan diuji.\n",
    "3. **Kemudahan Sharing:** File model dapat dibagikan atau diintegrasikan ke dalam aplikasi lain dengan mudah."
   ]
  },
  {
   "cell_type": "markdown",
   "metadata": {},
   "source": [
    "# x. Model Inference"
   ]
  },
  {
   "cell_type": "markdown",
   "metadata": {},
   "source": [
    "```\n",
    "import pandas as pd\n",
    "import joblib\n",
    "\n",
    "# Load pipeline\n",
    "loaded_pipeline = joblib.load(\"final_pipeline_model.pkl\")\n",
    "\n",
    "# Data test\n",
    "new_data = pd.read_csv('test.csv')\n",
    "\n",
    "# Prediksi menggunakan pipeline\n",
    "predictions = loaded_pipeline.predict(new_data)\n",
    "probabilities = loaded_pipeline.predict_proba(new_data)\n",
    "\n",
    "print(f\"Predictions: {predictions}\")\n",
    "print(f\"Probabilities: {probabilities}\")\n",
    "```"
   ]
  },
  {
   "cell_type": "markdown",
   "metadata": {},
   "source": [
    "### Model Inference\n",
    "\n",
    "Proses **model inference** telah dilakukan dan berhasil mendeteksi karyawan yang berpotensi untuk resign (*attrition*) berdasarkan data uji. Model mampu memberikan prediksi dengan performa yang cukup baik, sesuai dengan metrik evaluasi sebelumnya. \n",
    "\n",
    "#### **Hasil:**\n",
    "- Model dapat digunakan untuk memberikan insight awal kepada perusahaan terkait risiko *attrition* karyawan.\n",
    "- Prediksi yang dihasilkan memungkinkan tim manajemen untuk mengambil langkah preventif lebih dini.\n",
    "\n",
    "#### **Pengembangan Selanjutnya:**\n",
    "Walaupun model sudah menunjukkan performa yang memadai, terdapat beberapa area pengembangan untuk meningkatkan akurasi dan keandalan prediksi, di antaranya:\n",
    "1. **Optimasi Model:**\n",
    "   - Lakukan hyperparameter tuning lebih lanjut, terutama pada model Gradient Boosting atau metode lainnya.\n",
    "   - Eksplorasi model alternatif.\n",
    "\n",
    "2. **Feature Engineering:**\n",
    "   - Tambahkan fitur baru yang relevan, seperti tingkat kepuasan kerja, beban kerja, atau kebijakan perusahaan.\n",
    "   - Lakukan analisis mendalam untuk memastikan semua fitur yang ada memberikan kontribusi signifikan terhadap performa model.\n",
    "\n",
    "3. **Integrasi dan Umpan Balik:**\n",
    "   - Integrasikan model ke dalam sistem perusahaan untuk pemantauan karyawan secara real-time.\n",
    "   - Menggunakan data aktual dari prediksi sebelumnya sebagai umpan balik (*feedback loop*) untuk terus melatih dan menyempurnakan model.\n",
    "\n",
    "#### **Kesimpulan:**\n",
    "Proses inference berjalan dengan baik dan memberikan hasil yang bermanfaat. Namun, pengembangan lebih lanjut diperlukan untuk meningkatkan akurasi dan keandalan model, sehingga dapat menjadi alat yang lebih kuat dalam mendeteksi risiko *attrition* dan mendukung pengambilan keputusan strategis di masa depan.\n"
   ]
  },
  {
   "cell_type": "markdown",
   "metadata": {},
   "source": [
    "# xi. Pengambilan Kesimpulan"
   ]
  },
  {
   "cell_type": "markdown",
   "metadata": {},
   "source": [
    "Model prediksi *attrition* yang dikembangkan berhasil mencapai tujuan utama, yaitu mendeteksi karyawan yang berpotensi resign berdasarkan berbagai faktor. Dengan akurasi sebesar 75.70% dan keseimbangan yang baik antara Precision dan Recall, model ini mampu memberikan wawasan awal bagi perusahaan untuk mengidentifikasi risiko resign secara proaktif. Hasil ini dapat membantu perusahaan mengurangi biaya rekrutmen dan pelatihan, serta mempertahankan tingkat produktivitas melalui langkah pencegahan yang lebih terarah.\n",
    "\n",
    "Namun, untuk memberikan nilai tambah yang lebih besar, pengembangan model di masa depan dapat dilakukan dengan memperbaiki ROC-AUC, menambahkan fitur yang lebih relevan, dan mengoptimalkan distribusi data kelas. Dengan terus menyempurnakan model ini, perusahaan dapat menciptakan sistem prediksi yang lebih akurat dan mendukung pengambilan keputusan berbasis data untuk strategi retensi karyawan yang lebih efektif.\n"
   ]
  }
 ],
 "metadata": {
  "kernelspec": {
   "display_name": "hacktiv8_ftds",
   "language": "python",
   "name": "python3"
  },
  "language_info": {
   "codemirror_mode": {
    "name": "ipython",
    "version": 3
   },
   "file_extension": ".py",
   "mimetype": "text/x-python",
   "name": "python",
   "nbconvert_exporter": "python",
   "pygments_lexer": "ipython3",
   "version": "3.12.7"
  }
 },
 "nbformat": 4,
 "nbformat_minor": 2
}
