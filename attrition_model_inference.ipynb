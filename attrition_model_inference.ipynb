{
 "cells": [
  {
   "cell_type": "code",
   "execution_count": null,
   "metadata": {},
   "outputs": [
    {
     "name": "stdout",
     "output_type": "stream",
     "text": [
      "Predictions: ['Stayed' 'Left' 'Stayed' ... 'Stayed' 'Left' 'Stayed']\n",
      "Probabilities: [[0.38351535 0.61648465]\n",
      " [0.74118707 0.25881293]\n",
      " [0.0881406  0.9118594 ]\n",
      " ...\n",
      " [0.16335036 0.83664964]\n",
      " [0.59628494 0.40371506]\n",
      " [0.26954613 0.73045387]]\n"
     ]
    }
   ],
   "source": [
    "import pandas as pd\n",
    "import joblib\n",
    "\n",
    "# Load pipeline\n",
    "loaded_pipeline = joblib.load(\"final_pipeline_model.pkl\")\n",
    "\n",
    "# Data test\n",
    "new_data = pd.read_csv('test.csv')\n",
    "\n",
    "# Prediksi menggunakan pipeline\n",
    "predictions = loaded_pipeline.predict(new_data)\n",
    "probabilities = loaded_pipeline.predict_proba(new_data)\n",
    "\n",
    "print(f\"Predictions: {predictions}\")\n",
    "print(f\"Probabilities: {probabilities}\")\n"
   ]
  }
 ],
 "metadata": {
  "kernelspec": {
   "display_name": "hacktiv8_ftds",
   "language": "python",
   "name": "python3"
  },
  "language_info": {
   "codemirror_mode": {
    "name": "ipython",
    "version": 3
   },
   "file_extension": ".py",
   "mimetype": "text/x-python",
   "name": "python",
   "nbconvert_exporter": "python",
   "pygments_lexer": "ipython3",
   "version": "3.12.7"
  }
 },
 "nbformat": 4,
 "nbformat_minor": 2
}
